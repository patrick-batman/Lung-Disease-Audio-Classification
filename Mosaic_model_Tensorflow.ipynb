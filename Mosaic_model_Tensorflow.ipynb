{
  "nbformat": 4,
  "nbformat_minor": 0,
  "metadata": {
    "colab": {
      "provenance": []
    },
    "kernelspec": {
      "name": "python3",
      "display_name": "Python 3"
    },
    "language_info": {
      "name": "python"
    },
    "accelerator": "GPU",
    "gpuClass": "standard"
  },
  "cells": [
    {
      "cell_type": "markdown",
      "source": [
        "#Training the Model"
      ],
      "metadata": {
        "id": "lDNuyzy68aPb"
      }
    },
    {
      "cell_type": "markdown",
      "source": [
        "#Loading Libraries and Dataset"
      ],
      "metadata": {
        "id": "yUSPKzv5s-PP"
      }
    },
    {
      "cell_type": "code",
      "execution_count": null,
      "metadata": {
        "id": "nP5vHouRpSjN"
      },
      "outputs": [],
      "source": [
        "import numpy as np # linear algebra\n",
        "import pandas as pd # data processing, CSV file I/O (e.g. pd.read_csv)\n",
        "import tensorflow as tf\n",
        "from tensorflow import keras\n",
        "import matplotlib.pyplot as plt\n",
        "import seaborn as sns\n",
        "import librosa.display\n",
        "import os"
      ]
    },
    {
      "cell_type": "code",
      "source": [
        "import librosa as lb"
      ],
      "metadata": {
        "id": "XV8pye9gqqlS"
      },
      "execution_count": null,
      "outputs": []
    },
    {
      "cell_type": "code",
      "source": [
        "import sys\n",
        "from google.colab import drive\n",
        "drive.mount('/content/drive')"
      ],
      "metadata": {
        "colab": {
          "base_uri": "https://localhost:8080/"
        },
        "id": "dRaJDXDRpZsj",
        "outputId": "d717190e-f2bc-4628-d9f7-6d010be19cc4"
      },
      "execution_count": null,
      "outputs": [
        {
          "output_type": "stream",
          "name": "stdout",
          "text": [
            "Mounted at /content/drive\n"
          ]
        }
      ]
    },
    {
      "cell_type": "code",
      "source": [
        "#Loading Dataset\n",
        "files_df=pd.read_csv(\"/content/drive/MyDrive/Mosaic23/file_info.csv\")"
      ],
      "metadata": {
        "id": "WhUcLfCzpd6B"
      },
      "execution_count": null,
      "outputs": []
    },
    {
      "cell_type": "code",
      "source": [
        "files_df.head()"
      ],
      "metadata": {
        "colab": {
          "base_uri": "https://localhost:8080/",
          "height": 204
        },
        "id": "FVSQ44e9p3MA",
        "outputId": "c9c6df54-d2a6-469f-b6aa-f8da874c01b9"
      },
      "execution_count": null,
      "outputs": [
        {
          "output_type": "execute_result",
          "data": {
            "text/plain": [
              "    start      end  crackles  weezels  pid mode                      filename\n",
              "0  1.5629   3.4694       0.0      1.0  195   sc  195_1b1_Ar_sc_Litt3200_0.wav\n",
              "1  3.4694   5.4677       0.0      0.0  195   sc  195_1b1_Ar_sc_Litt3200_1.wav\n",
              "2  5.4677   7.5242       0.0      1.0  195   sc  195_1b1_Ar_sc_Litt3200_2.wav\n",
              "3  7.5242   9.8468       0.0      0.0  195   sc  195_1b1_Ar_sc_Litt3200_3.wav\n",
              "4  9.8468  11.1340       0.0      0.0  195   sc  195_1b1_Ar_sc_Litt3200_4.wav"
            ],
            "text/html": [
              "\n",
              "  <div id=\"df-45857f16-8f3f-496a-bb41-a7810fbd22cd\">\n",
              "    <div class=\"colab-df-container\">\n",
              "      <div>\n",
              "<style scoped>\n",
              "    .dataframe tbody tr th:only-of-type {\n",
              "        vertical-align: middle;\n",
              "    }\n",
              "\n",
              "    .dataframe tbody tr th {\n",
              "        vertical-align: top;\n",
              "    }\n",
              "\n",
              "    .dataframe thead th {\n",
              "        text-align: right;\n",
              "    }\n",
              "</style>\n",
              "<table border=\"1\" class=\"dataframe\">\n",
              "  <thead>\n",
              "    <tr style=\"text-align: right;\">\n",
              "      <th></th>\n",
              "      <th>start</th>\n",
              "      <th>end</th>\n",
              "      <th>crackles</th>\n",
              "      <th>weezels</th>\n",
              "      <th>pid</th>\n",
              "      <th>mode</th>\n",
              "      <th>filename</th>\n",
              "    </tr>\n",
              "  </thead>\n",
              "  <tbody>\n",
              "    <tr>\n",
              "      <th>0</th>\n",
              "      <td>1.5629</td>\n",
              "      <td>3.4694</td>\n",
              "      <td>0.0</td>\n",
              "      <td>1.0</td>\n",
              "      <td>195</td>\n",
              "      <td>sc</td>\n",
              "      <td>195_1b1_Ar_sc_Litt3200_0.wav</td>\n",
              "    </tr>\n",
              "    <tr>\n",
              "      <th>1</th>\n",
              "      <td>3.4694</td>\n",
              "      <td>5.4677</td>\n",
              "      <td>0.0</td>\n",
              "      <td>0.0</td>\n",
              "      <td>195</td>\n",
              "      <td>sc</td>\n",
              "      <td>195_1b1_Ar_sc_Litt3200_1.wav</td>\n",
              "    </tr>\n",
              "    <tr>\n",
              "      <th>2</th>\n",
              "      <td>5.4677</td>\n",
              "      <td>7.5242</td>\n",
              "      <td>0.0</td>\n",
              "      <td>1.0</td>\n",
              "      <td>195</td>\n",
              "      <td>sc</td>\n",
              "      <td>195_1b1_Ar_sc_Litt3200_2.wav</td>\n",
              "    </tr>\n",
              "    <tr>\n",
              "      <th>3</th>\n",
              "      <td>7.5242</td>\n",
              "      <td>9.8468</td>\n",
              "      <td>0.0</td>\n",
              "      <td>0.0</td>\n",
              "      <td>195</td>\n",
              "      <td>sc</td>\n",
              "      <td>195_1b1_Ar_sc_Litt3200_3.wav</td>\n",
              "    </tr>\n",
              "    <tr>\n",
              "      <th>4</th>\n",
              "      <td>9.8468</td>\n",
              "      <td>11.1340</td>\n",
              "      <td>0.0</td>\n",
              "      <td>0.0</td>\n",
              "      <td>195</td>\n",
              "      <td>sc</td>\n",
              "      <td>195_1b1_Ar_sc_Litt3200_4.wav</td>\n",
              "    </tr>\n",
              "  </tbody>\n",
              "</table>\n",
              "</div>\n",
              "      <button class=\"colab-df-convert\" onclick=\"convertToInteractive('df-45857f16-8f3f-496a-bb41-a7810fbd22cd')\"\n",
              "              title=\"Convert this dataframe to an interactive table.\"\n",
              "              style=\"display:none;\">\n",
              "        \n",
              "  <svg xmlns=\"http://www.w3.org/2000/svg\" height=\"24px\"viewBox=\"0 0 24 24\"\n",
              "       width=\"24px\">\n",
              "    <path d=\"M0 0h24v24H0V0z\" fill=\"none\"/>\n",
              "    <path d=\"M18.56 5.44l.94 2.06.94-2.06 2.06-.94-2.06-.94-.94-2.06-.94 2.06-2.06.94zm-11 1L8.5 8.5l.94-2.06 2.06-.94-2.06-.94L8.5 2.5l-.94 2.06-2.06.94zm10 10l.94 2.06.94-2.06 2.06-.94-2.06-.94-.94-2.06-.94 2.06-2.06.94z\"/><path d=\"M17.41 7.96l-1.37-1.37c-.4-.4-.92-.59-1.43-.59-.52 0-1.04.2-1.43.59L10.3 9.45l-7.72 7.72c-.78.78-.78 2.05 0 2.83L4 21.41c.39.39.9.59 1.41.59.51 0 1.02-.2 1.41-.59l7.78-7.78 2.81-2.81c.8-.78.8-2.07 0-2.86zM5.41 20L4 18.59l7.72-7.72 1.47 1.35L5.41 20z\"/>\n",
              "  </svg>\n",
              "      </button>\n",
              "      \n",
              "  <style>\n",
              "    .colab-df-container {\n",
              "      display:flex;\n",
              "      flex-wrap:wrap;\n",
              "      gap: 12px;\n",
              "    }\n",
              "\n",
              "    .colab-df-convert {\n",
              "      background-color: #E8F0FE;\n",
              "      border: none;\n",
              "      border-radius: 50%;\n",
              "      cursor: pointer;\n",
              "      display: none;\n",
              "      fill: #1967D2;\n",
              "      height: 32px;\n",
              "      padding: 0 0 0 0;\n",
              "      width: 32px;\n",
              "    }\n",
              "\n",
              "    .colab-df-convert:hover {\n",
              "      background-color: #E2EBFA;\n",
              "      box-shadow: 0px 1px 2px rgba(60, 64, 67, 0.3), 0px 1px 3px 1px rgba(60, 64, 67, 0.15);\n",
              "      fill: #174EA6;\n",
              "    }\n",
              "\n",
              "    [theme=dark] .colab-df-convert {\n",
              "      background-color: #3B4455;\n",
              "      fill: #D2E3FC;\n",
              "    }\n",
              "\n",
              "    [theme=dark] .colab-df-convert:hover {\n",
              "      background-color: #434B5C;\n",
              "      box-shadow: 0px 1px 3px 1px rgba(0, 0, 0, 0.15);\n",
              "      filter: drop-shadow(0px 1px 2px rgba(0, 0, 0, 0.3));\n",
              "      fill: #FFFFFF;\n",
              "    }\n",
              "  </style>\n",
              "\n",
              "      <script>\n",
              "        const buttonEl =\n",
              "          document.querySelector('#df-45857f16-8f3f-496a-bb41-a7810fbd22cd button.colab-df-convert');\n",
              "        buttonEl.style.display =\n",
              "          google.colab.kernel.accessAllowed ? 'block' : 'none';\n",
              "\n",
              "        async function convertToInteractive(key) {\n",
              "          const element = document.querySelector('#df-45857f16-8f3f-496a-bb41-a7810fbd22cd');\n",
              "          const dataTable =\n",
              "            await google.colab.kernel.invokeFunction('convertToInteractive',\n",
              "                                                     [key], {});\n",
              "          if (!dataTable) return;\n",
              "\n",
              "          const docLinkHtml = 'Like what you see? Visit the ' +\n",
              "            '<a target=\"_blank\" href=https://colab.research.google.com/notebooks/data_table.ipynb>data table notebook</a>'\n",
              "            + ' to learn more about interactive tables.';\n",
              "          element.innerHTML = '';\n",
              "          dataTable['output_type'] = 'display_data';\n",
              "          await google.colab.output.renderOutput(dataTable, element);\n",
              "          const docLink = document.createElement('div');\n",
              "          docLink.innerHTML = docLinkHtml;\n",
              "          element.appendChild(docLink);\n",
              "        }\n",
              "      </script>\n",
              "    </div>\n",
              "  </div>\n",
              "  "
            ]
          },
          "metadata": {},
          "execution_count": 5
        }
      ]
    },
    {
      "cell_type": "markdown",
      "source": [
        "Playing with various spectral Features"
      ],
      "metadata": {
        "id": "dN3qdvP-uSeD"
      }
    },
    {
      "cell_type": "code",
      "source": [
        "path='/content/drive/MyDrive/Mosaic23/processed_audio_files/'\n",
        "\n",
        "import librosa.display\n",
        "file=path +files_df.iloc[3].filename\n",
        "sound,sample_rate=lb.load(file)\n",
        "mfccs = lb.feature.mfcc(y=sound, sr=sample_rate, n_mfcc=40)\n",
        "fig, ax = plt.subplots()\n",
        "img = librosa.display.specshow(mfccs, x_axis='time', ax=ax)\n",
        "fig.colorbar(img, ax=ax)\n",
        "ax.set(title='MFCC')"
      ],
      "metadata": {
        "colab": {
          "base_uri": "https://localhost:8080/",
          "height": 312
        },
        "id": "4RlFIVacqLFa",
        "outputId": "50af9d1a-3611-4cef-9fc1-25d793872ef7"
      },
      "execution_count": null,
      "outputs": [
        {
          "output_type": "execute_result",
          "data": {
            "text/plain": [
              "[Text(0.5, 1.0, 'MFCC')]"
            ]
          },
          "metadata": {},
          "execution_count": 6
        },
        {
          "output_type": "display_data",
          "data": {
            "text/plain": [
              "<Figure size 432x288 with 2 Axes>"
            ],
            "image/png": "[encoded data removed]"
          },
          "metadata": {
            "needs_background": "light"
          }
        }
      ]
    },
    {
      "cell_type": "code",
      "source": [
        "S = np.abs(librosa.stft(y=sound))\n",
        "S"
      ],
      "metadata": {
        "id": "7aS0ppcJvkCl",
        "colab": {
          "base_uri": "https://localhost:8080/"
        },
        "outputId": "f05e0b53-c497-48bd-add5-a3d475404522"
      },
      "execution_count": null,
      "outputs": [
        {
          "output_type": "execute_result",
          "data": {
            "text/plain": [
              "array([[0., 0., 0., ..., 0., 0., 0.],\n",
              "       [0., 0., 0., ..., 0., 0., 0.],\n",
              "       [0., 0., 0., ..., 0., 0., 0.],\n",
              "       ...,\n",
              "       [0., 0., 0., ..., 0., 0., 0.],\n",
              "       [0., 0., 0., ..., 0., 0., 0.],\n",
              "       [0., 0., 0., ..., 0., 0., 0.]], dtype=float32)"
            ]
          },
          "metadata": {},
          "execution_count": 7
        }
      ]
    },
    {
      "cell_type": "code",
      "source": [
        "import matplotlib.pyplot as plt\n",
        "fig, ax = plt.subplots()\n",
        "img = librosa.display.specshow(librosa.amplitude_to_db(S,\n",
        "                                                        ref=np.max),\n",
        "                                y_axis='log', x_axis='time', ax=ax)\n",
        "ax.set_title('Power spectrogram')\n",
        "fig.colorbar(img, ax=ax, format=\"%+2.0f dB\")"
      ],
      "metadata": {
        "colab": {
          "base_uri": "https://localhost:8080/",
          "height": 312
        },
        "id": "OZYhECI8s9NM",
        "outputId": "86143470-5f3c-4ada-db33-aaa1f71b7ec0"
      },
      "execution_count": null,
      "outputs": [
        {
          "output_type": "execute_result",
          "data": {
            "text/plain": [
              "<matplotlib.colorbar.Colorbar at 0x7f73c4e83fd0>"
            ]
          },
          "metadata": {},
          "execution_count": 8
        },
        {
          "output_type": "display_data",
          "data": {
            "text/plain": [
              "<Figure size 432x288 with 2 Axes>"
            ],
            "image/png": "[encoded data removed]"
          },
          "metadata": {
            "needs_background": "light"
          }
        }
      ]
    },
    {
      "cell_type": "markdown",
      "source": [
        "Adding a column for final outcome which will later be label encoded"
      ],
      "metadata": {
        "id": "QSoYoyUKuXKy"
      }
    },
    {
      "cell_type": "code",
      "source": [
        "files_df['weezels'] = files_df['weezels'].astype(int)\n",
        "files_df['crackles'] = files_df['crackles'].astype(int)"
      ],
      "metadata": {
        "id": "i8WG-JR-s9E5"
      },
      "execution_count": null,
      "outputs": []
    },
    {
      "cell_type": "code",
      "source": [
        "files_df.info()"
      ],
      "metadata": {
        "colab": {
          "base_uri": "https://localhost:8080/"
        },
        "id": "AECM6t0HuN48",
        "outputId": "a65a3c60-dbf6-4873-daae-1aca7d40359a"
      },
      "execution_count": null,
      "outputs": [
        {
          "output_type": "stream",
          "name": "stdout",
          "text": [
            "<class 'pandas.core.frame.DataFrame'>\n",
            "RangeIndex: 6110 entries, 0 to 6109\n",
            "Data columns (total 7 columns):\n",
            " #   Column    Non-Null Count  Dtype  \n",
            "---  ------    --------------  -----  \n",
            " 0   start     6110 non-null   float64\n",
            " 1   end       6110 non-null   float64\n",
            " 2   crackles  6110 non-null   int64  \n",
            " 3   weezels   6110 non-null   int64  \n",
            " 4   pid       6110 non-null   int64  \n",
            " 5   mode      6110 non-null   object \n",
            " 6   filename  6110 non-null   object \n",
            "dtypes: float64(2), int64(3), object(2)\n",
            "memory usage: 334.3+ KB\n"
          ]
        }
      ]
    },
    {
      "cell_type": "code",
      "source": [
        "def categorise(row):\n",
        "  if row['weezels']==0 and row['crackles']==0 :\n",
        "    return 'normal'\n",
        "  elif row['weezels']==1 and row['crackles']==0 :\n",
        "    return 'weezels'\n",
        "  elif row['weezels']==0 and row['crackles']==1 :\n",
        "    return 'crackles'\n",
        "  else:\n",
        "    return 'both'"
      ],
      "metadata": {
        "id": "HQCKTpsXuS02"
      },
      "execution_count": null,
      "outputs": []
    },
    {
      "cell_type": "code",
      "source": [
        "files_df['outcome'] = files_df.apply(lambda row: categorise(row), axis=1)"
      ],
      "metadata": {
        "id": "d6U70IwtvSdK"
      },
      "execution_count": null,
      "outputs": []
    },
    {
      "cell_type": "code",
      "source": [
        "files_df.info()"
      ],
      "metadata": {
        "colab": {
          "base_uri": "https://localhost:8080/"
        },
        "id": "ZiXoJy_DvaUz",
        "outputId": "0032859b-d69e-43b2-db3e-8a2939809b4e"
      },
      "execution_count": null,
      "outputs": [
        {
          "output_type": "stream",
          "name": "stdout",
          "text": [
            "<class 'pandas.core.frame.DataFrame'>\n",
            "RangeIndex: 6110 entries, 0 to 6109\n",
            "Data columns (total 8 columns):\n",
            " #   Column    Non-Null Count  Dtype  \n",
            "---  ------    --------------  -----  \n",
            " 0   start     6110 non-null   float64\n",
            " 1   end       6110 non-null   float64\n",
            " 2   crackles  6110 non-null   int64  \n",
            " 3   weezels   6110 non-null   int64  \n",
            " 4   pid       6110 non-null   int64  \n",
            " 5   mode      6110 non-null   object \n",
            " 6   filename  6110 non-null   object \n",
            " 7   outcome   6110 non-null   object \n",
            "dtypes: float64(2), int64(3), object(3)\n",
            "memory usage: 382.0+ KB\n"
          ]
        }
      ]
    },
    {
      "cell_type": "markdown",
      "source": [
        "Dividing the data into train and testing(validation datset)"
      ],
      "metadata": {
        "id": "vq2YxwGrugZI"
      }
    },
    {
      "cell_type": "code",
      "source": [
        "from sklearn.model_selection import train_test_split\n",
        "Xtrain,Xval,ytrain,yval=train_test_split(files_df,files_df.outcome,stratify=files_df.outcome,random_state=42,test_size=0.25)"
      ],
      "metadata": {
        "id": "9cEcq3wjq-yj"
      },
      "execution_count": null,
      "outputs": []
    },
    {
      "cell_type": "code",
      "source": [
        "Xtrain.head()"
      ],
      "metadata": {
        "colab": {
          "base_uri": "https://localhost:8080/",
          "height": 204
        },
        "id": "sPboPC28v4gz",
        "outputId": "5b344f81-4855-472d-df42-aed3c1e88259"
      },
      "execution_count": null,
      "outputs": [
        {
          "output_type": "execute_result",
          "data": {
            "text/plain": [
              "       start     end  crackles  weezels  pid mode  \\\n",
              "5823   6.150   7.550         0        0  188   sc   \n",
              "1154  57.251  62.044         0        1  218   sc   \n",
              "2419   1.732   4.042         1        0  130   mc   \n",
              "1320  33.885  36.383         1        0  222   sc   \n",
              "654    4.266   7.705         0        0  207   mc   \n",
              "\n",
              "                          filename   outcome  \n",
              "5823  188_1b1_Al_sc_Meditron_0.wav    normal  \n",
              "1154  218_1b1_Pl_sc_Meditron_0.wav   weezels  \n",
              "2419  130_2b3_Lr_mc_AKGC417L_0.wav  crackles  \n",
              "1320  222_1b1_Lr_sc_Meditron_0.wav  crackles  \n",
              "654   207_2b3_Pr_mc_AKGC417L_0.wav    normal  "
            ],
            "text/html": [
              "\n",
              "  <div id=\"df-834fe87d-2c38-476c-a11f-0fd450fd1e63\">\n",
              "    <div class=\"colab-df-container\">\n",
              "      <div>\n",
              "<style scoped>\n",
              "    .dataframe tbody tr th:only-of-type {\n",
              "        vertical-align: middle;\n",
              "    }\n",
              "\n",
              "    .dataframe tbody tr th {\n",
              "        vertical-align: top;\n",
              "    }\n",
              "\n",
              "    .dataframe thead th {\n",
              "        text-align: right;\n",
              "    }\n",
              "</style>\n",
              "<table border=\"1\" class=\"dataframe\">\n",
              "  <thead>\n",
              "    <tr style=\"text-align: right;\">\n",
              "      <th></th>\n",
              "      <th>start</th>\n",
              "      <th>end</th>\n",
              "      <th>crackles</th>\n",
              "      <th>weezels</th>\n",
              "      <th>pid</th>\n",
              "      <th>mode</th>\n",
              "      <th>filename</th>\n",
              "      <th>outcome</th>\n",
              "    </tr>\n",
              "  </thead>\n",
              "  <tbody>\n",
              "    <tr>\n",
              "      <th>5823</th>\n",
              "      <td>6.150</td>\n",
              "      <td>7.550</td>\n",
              "      <td>0</td>\n",
              "      <td>0</td>\n",
              "      <td>188</td>\n",
              "      <td>sc</td>\n",
              "      <td>188_1b1_Al_sc_Meditron_0.wav</td>\n",
              "      <td>normal</td>\n",
              "    </tr>\n",
              "    <tr>\n",
              "      <th>1154</th>\n",
              "      <td>57.251</td>\n",
              "      <td>62.044</td>\n",
              "      <td>0</td>\n",
              "      <td>1</td>\n",
              "      <td>218</td>\n",
              "      <td>sc</td>\n",
              "      <td>218_1b1_Pl_sc_Meditron_0.wav</td>\n",
              "      <td>weezels</td>\n",
              "    </tr>\n",
              "    <tr>\n",
              "      <th>2419</th>\n",
              "      <td>1.732</td>\n",
              "      <td>4.042</td>\n",
              "      <td>1</td>\n",
              "      <td>0</td>\n",
              "      <td>130</td>\n",
              "      <td>mc</td>\n",
              "      <td>130_2b3_Lr_mc_AKGC417L_0.wav</td>\n",
              "      <td>crackles</td>\n",
              "    </tr>\n",
              "    <tr>\n",
              "      <th>1320</th>\n",
              "      <td>33.885</td>\n",
              "      <td>36.383</td>\n",
              "      <td>1</td>\n",
              "      <td>0</td>\n",
              "      <td>222</td>\n",
              "      <td>sc</td>\n",
              "      <td>222_1b1_Lr_sc_Meditron_0.wav</td>\n",
              "      <td>crackles</td>\n",
              "    </tr>\n",
              "    <tr>\n",
              "      <th>654</th>\n",
              "      <td>4.266</td>\n",
              "      <td>7.705</td>\n",
              "      <td>0</td>\n",
              "      <td>0</td>\n",
              "      <td>207</td>\n",
              "      <td>mc</td>\n",
              "      <td>207_2b3_Pr_mc_AKGC417L_0.wav</td>\n",
              "      <td>normal</td>\n",
              "    </tr>\n",
              "  </tbody>\n",
              "</table>\n",
              "</div>\n",
              "      <button class=\"colab-df-convert\" onclick=\"convertToInteractive('df-834fe87d-2c38-476c-a11f-0fd450fd1e63')\"\n",
              "              title=\"Convert this dataframe to an interactive table.\"\n",
              "              style=\"display:none;\">\n",
              "        \n",
              "  <svg xmlns=\"http://www.w3.org/2000/svg\" height=\"24px\"viewBox=\"0 0 24 24\"\n",
              "       width=\"24px\">\n",
              "    <path d=\"M0 0h24v24H0V0z\" fill=\"none\"/>\n",
              "    <path d=\"M18.56 5.44l.94 2.06.94-2.06 2.06-.94-2.06-.94-.94-2.06-.94 2.06-2.06.94zm-11 1L8.5 8.5l.94-2.06 2.06-.94-2.06-.94L8.5 2.5l-.94 2.06-2.06.94zm10 10l.94 2.06.94-2.06 2.06-.94-2.06-.94-.94-2.06-.94 2.06-2.06.94z\"/><path d=\"M17.41 7.96l-1.37-1.37c-.4-.4-.92-.59-1.43-.59-.52 0-1.04.2-1.43.59L10.3 9.45l-7.72 7.72c-.78.78-.78 2.05 0 2.83L4 21.41c.39.39.9.59 1.41.59.51 0 1.02-.2 1.41-.59l7.78-7.78 2.81-2.81c.8-.78.8-2.07 0-2.86zM5.41 20L4 18.59l7.72-7.72 1.47 1.35L5.41 20z\"/>\n",
              "  </svg>\n",
              "      </button>\n",
              "      \n",
              "  <style>\n",
              "    .colab-df-container {\n",
              "      display:flex;\n",
              "      flex-wrap:wrap;\n",
              "      gap: 12px;\n",
              "    }\n",
              "\n",
              "    .colab-df-convert {\n",
              "      background-color: #E8F0FE;\n",
              "      border: none;\n",
              "      border-radius: 50%;\n",
              "      cursor: pointer;\n",
              "      display: none;\n",
              "      fill: #1967D2;\n",
              "      height: 32px;\n",
              "      padding: 0 0 0 0;\n",
              "      width: 32px;\n",
              "    }\n",
              "\n",
              "    .colab-df-convert:hover {\n",
              "      background-color: #E2EBFA;\n",
              "      box-shadow: 0px 1px 2px rgba(60, 64, 67, 0.3), 0px 1px 3px 1px rgba(60, 64, 67, 0.15);\n",
              "      fill: #174EA6;\n",
              "    }\n",
              "\n",
              "    [theme=dark] .colab-df-convert {\n",
              "      background-color: #3B4455;\n",
              "      fill: #D2E3FC;\n",
              "    }\n",
              "\n",
              "    [theme=dark] .colab-df-convert:hover {\n",
              "      background-color: #434B5C;\n",
              "      box-shadow: 0px 1px 3px 1px rgba(0, 0, 0, 0.15);\n",
              "      filter: drop-shadow(0px 1px 2px rgba(0, 0, 0, 0.3));\n",
              "      fill: #FFFFFF;\n",
              "    }\n",
              "  </style>\n",
              "\n",
              "      <script>\n",
              "        const buttonEl =\n",
              "          document.querySelector('#df-834fe87d-2c38-476c-a11f-0fd450fd1e63 button.colab-df-convert');\n",
              "        buttonEl.style.display =\n",
              "          google.colab.kernel.accessAllowed ? 'block' : 'none';\n",
              "\n",
              "        async function convertToInteractive(key) {\n",
              "          const element = document.querySelector('#df-834fe87d-2c38-476c-a11f-0fd450fd1e63');\n",
              "          const dataTable =\n",
              "            await google.colab.kernel.invokeFunction('convertToInteractive',\n",
              "                                                     [key], {});\n",
              "          if (!dataTable) return;\n",
              "\n",
              "          const docLinkHtml = 'Like what you see? Visit the ' +\n",
              "            '<a target=\"_blank\" href=https://colab.research.google.com/notebooks/data_table.ipynb>data table notebook</a>'\n",
              "            + ' to learn more about interactive tables.';\n",
              "          element.innerHTML = '';\n",
              "          dataTable['output_type'] = 'display_data';\n",
              "          await google.colab.output.renderOutput(dataTable, element);\n",
              "          const docLink = document.createElement('div');\n",
              "          docLink.innerHTML = docLinkHtml;\n",
              "          element.appendChild(docLink);\n",
              "        }\n",
              "      </script>\n",
              "    </div>\n",
              "  </div>\n",
              "  "
            ]
          },
          "metadata": {},
          "execution_count": 15
        }
      ]
    },
    {
      "cell_type": "code",
      "source": [
        "ytrain=Xtrain.outcome\n",
        "yval=Xval.outcome"
      ],
      "metadata": {
        "id": "I1CBamkpwJKx"
      },
      "execution_count": null,
      "outputs": []
    },
    {
      "cell_type": "markdown",
      "source": [
        "Performing label encoding"
      ],
      "metadata": {
        "id": "sXLFDFGduvWK"
      }
    },
    {
      "cell_type": "code",
      "source": [
        "from sklearn.preprocessing import LabelEncoder\n",
        "le=LabelEncoder()\n",
        "ytrain=le.fit_transform(ytrain)\n",
        "yval=le.transform(yval)"
      ],
      "metadata": {
        "id": "AwrbdzzVwWGs"
      },
      "execution_count": null,
      "outputs": []
    },
    {
      "cell_type": "code",
      "source": [
        "#checking the labels assigned to each category\n",
        "list(le.inverse_transform([0, 1, 2, 3]))"
      ],
      "metadata": {
        "colab": {
          "base_uri": "https://localhost:8080/"
        },
        "id": "syBgT_FZvlCt",
        "outputId": "24176ffd-60ad-43c9-d9c4-00e3a62ace08"
      },
      "execution_count": null,
      "outputs": [
        {
          "output_type": "execute_result",
          "data": {
            "text/plain": [
              "['both', 'crackles', 'normal', 'weezels']"
            ]
          },
          "metadata": {},
          "execution_count": 20
        }
      ]
    },
    {
      "cell_type": "markdown",
      "source": [
        "#Feature Extraction"
      ],
      "metadata": {
        "id": "SVAdKzuRwgtR"
      }
    },
    {
      "cell_type": "code",
      "source": [
        "#function to get various features : MFCC,STFt,MelSpectrogram\n",
        "def getFeatures(path):\n",
        "    soundArr,sample_rate=lb.load(path)\n",
        "    mfcc=lb.feature.mfcc(y=soundArr,sr=sample_rate)\n",
        "    cstft=lb.feature.chroma_stft(y=soundArr,sr=sample_rate)\n",
        "    mSpec=lb.feature.melspectrogram(y=soundArr,sr=sample_rate)\n",
        "\n",
        "    return mfcc,cstft,mSpec"
      ],
      "metadata": {
        "id": "gcfMXPr0wcw1"
      },
      "execution_count": null,
      "outputs": []
    },
    {
      "cell_type": "code",
      "source": [
        "#Creating Feature array for each different transform for validation set\n",
        "root='/content/drive/MyDrive/Mosaic23/processed_audio_files/'\n",
        "mfcc,cstft,mSpec=[],[],[]\n",
        "\n",
        "for idx,row in Xval.iterrows():\n",
        "    path=root + row['filename']\n",
        "    a,b,c=getFeatures(path)\n",
        "    mfcc.append(a)\n",
        "    cstft.append(b)\n",
        "    mSpec.append(c)\n",
        "    \n",
        "mfcc_val=np.array(mfcc)\n",
        "cstft_val=np.array(cstft)\n",
        "mSpec_val=np.array(mSpec)"
      ],
      "metadata": {
        "id": "40vOph87wyni",
        "colab": {
          "base_uri": "https://localhost:8080/"
        },
        "outputId": "45e42ef9-91f3-42e4-fcdc-bab93301394c"
      },
      "execution_count": null,
      "outputs": [
        {
          "output_type": "stream",
          "name": "stderr",
          "text": [
            "/usr/local/lib/python3.9/dist-packages/librosa/core/pitch.py:102: UserWarning: Trying to estimate tuning from empty frequency set.\n",
            "  return pitch_tuning(\n"
          ]
        }
      ]
    },
    {
      "cell_type": "code",
      "source": [
        "#Creating Feature array for each different transform for test set\n",
        "root='/content/drive/MyDrive/Mosaic23/processed_audio_files/'\n",
        "mfcc,cstft,mSpec=[],[],[]\n",
        "\n",
        "for idx,row in Xtrain.iterrows():\n",
        "    path=root + row['filename']\n",
        "    a,b,c=getFeatures(path)\n",
        "    mfcc.append(a)\n",
        "    cstft.append(b)\n",
        "    mSpec.append(c)\n",
        "    \n",
        "mfcc_train=np.array(mfcc)\n",
        "cstft_train=np.array(cstft)\n",
        "mSpec_train=np.array(mSpec)"
      ],
      "metadata": {
        "id": "TfK-DfWTxC9v"
      },
      "execution_count": null,
      "outputs": []
    },
    {
      "cell_type": "markdown",
      "source": [
        "#Training"
      ],
      "metadata": {
        "id": "Ui1pZNEAz5PM"
      }
    },
    {
      "cell_type": "markdown",
      "source": [
        "##Model Architecture:\n",
        "The model is based in m5 architecture of CNN. Here the seperate features are trained on three sperate CNNs and the results are in turn put through another neural network which finally classifies the audios as onr of four categories: **both ,weezels ,crackles ,normal**.\n",
        "\n",
        "\n",
        "---\n",
        "\n",
        "\n",
        "Each layers input is an array of size equal to the size of the transformation performed by librosa library. The outputs of these three layers is then given to final network which inturn givers 4 outputs which are the estimated likeliness of an audio sample belonging to a particular class"
      ],
      "metadata": {
        "id": "IO4EBdMavM6G"
      }
    },
    {
      "cell_type": "code",
      "source": [
        "my_callbacks = [\n",
        "    tf.keras.callbacks.EarlyStopping(patience=5),\n",
        "    tf.keras.callbacks.ReduceLROnPlateau(monitor='val_loss', factor=0.1,\n",
        "                              patience=3, min_lr=0.00001,mode='min')\n",
        "]"
      ],
      "metadata": {
        "id": "Vm36OldbzPRT"
      },
      "execution_count": null,
      "outputs": []
    },
    {
      "cell_type": "code",
      "source": [
        "#mfcc CNN block\n",
        "mfcc_input=keras.layers.Input(shape=(20,259,1),name=\"mfccInput\") #input size (20,259,1) as array shape of mfcc is (20,259)\n",
        "x=keras.layers.Conv2D(32,5,strides=(1,3),padding='same')(mfcc_input)\n",
        "x=keras.layers.BatchNormalization()(x)\n",
        "x=keras.layers.Activation(keras.activations.relu)(x)\n",
        "x=keras.layers.MaxPooling2D(pool_size=2,padding='valid')(x)\n",
        "\n",
        "x=keras.layers.Conv2D(64,3,strides=(1,2),padding='same')(x)\n",
        "x=keras.layers.BatchNormalization()(x)\n",
        "x=keras.layers.Activation(keras.activations.relu)(x)\n",
        "x=keras.layers.MaxPooling2D(pool_size=2,padding='valid')(x)\n",
        "\n",
        "x=keras.layers.Conv2D(96,2,padding='same')(x)\n",
        "x=keras.layers.BatchNormalization()(x)\n",
        "x=keras.layers.Activation(keras.activations.relu)(x)\n",
        "x=keras.layers.MaxPooling2D(pool_size=2,padding='valid')(x)\n",
        "\n",
        "x=keras.layers.Conv2D(128,2,padding='same')(x)\n",
        "x=keras.layers.BatchNormalization()(x)\n",
        "x=keras.layers.Activation(keras.activations.relu)(x)\n",
        "mfcc_output=keras.layers.GlobalMaxPooling2D()(x)\n",
        "\n",
        "mfcc_model=keras.Model(mfcc_input, mfcc_output, name=\"mfccModel\")"
      ],
      "metadata": {
        "id": "9RduFj9Oz97b"
      },
      "execution_count": null,
      "outputs": []
    },
    {
      "cell_type": "code",
      "source": [
        "mfcc_model.summary()"
      ],
      "metadata": {
        "colab": {
          "base_uri": "https://localhost:8080/"
        },
        "id": "YiUQA-ml0Dq4",
        "outputId": "3706c672-0332-45e0-ffcd-ff4013b37a58"
      },
      "execution_count": null,
      "outputs": [
        {
          "output_type": "stream",
          "name": "stdout",
          "text": [
            "Model: \"mfccModel\"\n",
            "_________________________________________________________________\n",
            " Layer (type)                Output Shape              Param #   \n",
            "=================================================================\n",
            " mfccInput (InputLayer)      [(None, 20, 259, 1)]      0         \n",
            "                                                                 \n",
            " conv2d (Conv2D)             (None, 20, 87, 32)        832       \n",
            "                                                                 \n",
            " batch_normalization (BatchN  (None, 20, 87, 32)       128       \n",
            " ormalization)                                                   \n",
            "                                                                 \n",
            " activation (Activation)     (None, 20, 87, 32)        0         \n",
            "                                                                 \n",
            " max_pooling2d (MaxPooling2D  (None, 10, 43, 32)       0         \n",
            " )                                                               \n",
            "                                                                 \n",
            " conv2d_1 (Conv2D)           (None, 10, 22, 64)        18496     \n",
            "                                                                 \n",
            " batch_normalization_1 (Batc  (None, 10, 22, 64)       256       \n",
            " hNormalization)                                                 \n",
            "                                                                 \n",
            " activation_1 (Activation)   (None, 10, 22, 64)        0         \n",
            "                                                                 \n",
            " max_pooling2d_1 (MaxPooling  (None, 5, 11, 64)        0         \n",
            " 2D)                                                             \n",
            "                                                                 \n",
            " conv2d_2 (Conv2D)           (None, 5, 11, 96)         24672     \n",
            "                                                                 \n",
            " batch_normalization_2 (Batc  (None, 5, 11, 96)        384       \n",
            " hNormalization)                                                 \n",
            "                                                                 \n",
            " activation_2 (Activation)   (None, 5, 11, 96)         0         \n",
            "                                                                 \n",
            " max_pooling2d_2 (MaxPooling  (None, 2, 5, 96)         0         \n",
            " 2D)                                                             \n",
            "                                                                 \n",
            " conv2d_3 (Conv2D)           (None, 2, 5, 128)         49280     \n",
            "                                                                 \n",
            " batch_normalization_3 (Batc  (None, 2, 5, 128)        512       \n",
            " hNormalization)                                                 \n",
            "                                                                 \n",
            " activation_3 (Activation)   (None, 2, 5, 128)         0         \n",
            "                                                                 \n",
            " global_max_pooling2d (Globa  (None, 128)              0         \n",
            " lMaxPooling2D)                                                  \n",
            "                                                                 \n",
            "=================================================================\n",
            "Total params: 94,560\n",
            "Trainable params: 93,920\n",
            "Non-trainable params: 640\n",
            "_________________________________________________________________\n"
          ]
        }
      ]
    },
    {
      "cell_type": "code",
      "source": [
        "#STFT CNN block\n",
        "croma_input=keras.layers.Input(shape=(12,259,1),name=\"cromaInput\") #input size (12,259,1) as array shape of cstft is (12,259)\n",
        "x=keras.layers.Conv2D(32,5,strides=(1,3),padding='same')(croma_input)\n",
        "x=keras.layers.BatchNormalization()(x)\n",
        "x=keras.layers.Activation(keras.activations.relu)(x)\n",
        "x=keras.layers.MaxPooling2D(pool_size=2,padding='valid')(x)\n",
        "\n",
        "x=keras.layers.Conv2D(64,3,strides=(1,2),padding='same')(x)\n",
        "x=keras.layers.BatchNormalization()(x)\n",
        "x=keras.layers.Activation(keras.activations.relu)(x)\n",
        "x=keras.layers.MaxPooling2D(pool_size=2,padding='valid')(x)\n",
        "\n",
        "x=keras.layers.Conv2D(128,2,padding='same')(x)\n",
        "x=keras.layers.BatchNormalization()(x)\n",
        "x=keras.layers.Activation(keras.activations.relu)(x)\n",
        "croma_output=keras.layers.GlobalMaxPooling2D()(x)\n",
        "\n",
        "croma_model=keras.Model(croma_input, croma_output, name=\"cromaModel\")"
      ],
      "metadata": {
        "id": "Mlt6RdVF0FoY"
      },
      "execution_count": null,
      "outputs": []
    },
    {
      "cell_type": "code",
      "source": [
        "croma_model.summary()"
      ],
      "metadata": {
        "colab": {
          "base_uri": "https://localhost:8080/"
        },
        "id": "Oj1yS99k0JaF",
        "outputId": "2165ecfa-2136-4862-ce6d-616744016245"
      },
      "execution_count": null,
      "outputs": [
        {
          "output_type": "stream",
          "name": "stdout",
          "text": [
            "Model: \"cromaModel\"\n",
            "_________________________________________________________________\n",
            " Layer (type)                Output Shape              Param #   \n",
            "=================================================================\n",
            " cromaInput (InputLayer)     [(None, 12, 259, 1)]      0         \n",
            "                                                                 \n",
            " conv2d_4 (Conv2D)           (None, 12, 87, 32)        832       \n",
            "                                                                 \n",
            " batch_normalization_4 (Batc  (None, 12, 87, 32)       128       \n",
            " hNormalization)                                                 \n",
            "                                                                 \n",
            " activation_4 (Activation)   (None, 12, 87, 32)        0         \n",
            "                                                                 \n",
            " max_pooling2d_3 (MaxPooling  (None, 6, 43, 32)        0         \n",
            " 2D)                                                             \n",
            "                                                                 \n",
            " conv2d_5 (Conv2D)           (None, 6, 22, 64)         18496     \n",
            "                                                                 \n",
            " batch_normalization_5 (Batc  (None, 6, 22, 64)        256       \n",
            " hNormalization)                                                 \n",
            "                                                                 \n",
            " activation_5 (Activation)   (None, 6, 22, 64)         0         \n",
            "                                                                 \n",
            " max_pooling2d_4 (MaxPooling  (None, 3, 11, 64)        0         \n",
            " 2D)                                                             \n",
            "                                                                 \n",
            " conv2d_6 (Conv2D)           (None, 3, 11, 128)        32896     \n",
            "                                                                 \n",
            " batch_normalization_6 (Batc  (None, 3, 11, 128)       512       \n",
            " hNormalization)                                                 \n",
            "                                                                 \n",
            " activation_6 (Activation)   (None, 3, 11, 128)        0         \n",
            "                                                                 \n",
            " global_max_pooling2d_1 (Glo  (None, 128)              0         \n",
            " balMaxPooling2D)                                                \n",
            "                                                                 \n",
            "=================================================================\n",
            "Total params: 53,120\n",
            "Trainable params: 52,672\n",
            "Non-trainable params: 448\n",
            "_________________________________________________________________\n"
          ]
        }
      ]
    },
    {
      "cell_type": "code",
      "source": [
        "#mel spectogram input block\n",
        "mSpec_input=keras.layers.Input(shape=(128,259,1),name=\"mSpecInput\") #input size (128,259,1) as array shape of melSpectogram is (128,259)\n",
        "x=keras.layers.Conv2D(32,5,strides=(2,3),padding='same')(mSpec_input)\n",
        "x=keras.layers.BatchNormalization()(x)\n",
        "x=keras.layers.Activation(keras.activations.relu)(x)\n",
        "x=keras.layers.MaxPooling2D(pool_size=2,padding='valid')(x)\n",
        "\n",
        "x=keras.layers.Conv2D(64,3,strides=(2,2),padding='same')(x)\n",
        "x=keras.layers.BatchNormalization()(x)\n",
        "x=keras.layers.Activation(keras.activations.relu)(x)\n",
        "x=keras.layers.MaxPooling2D(pool_size=2,padding='valid')(x)\n",
        "\n",
        "x=keras.layers.Conv2D(96,2,padding='same')(x)\n",
        "x=keras.layers.BatchNormalization()(x)\n",
        "x=keras.layers.Activation(keras.activations.relu)(x)\n",
        "x=keras.layers.MaxPooling2D(pool_size=2,padding='valid')(x)\n",
        "\n",
        "x=keras.layers.Conv2D(128,2,padding='same')(x)\n",
        "x=keras.layers.BatchNormalization()(x)\n",
        "x=keras.layers.Activation(keras.activations.relu)(x)\n",
        "mSpec_output=keras.layers.GlobalMaxPooling2D()(x)\n",
        "\n",
        "mSpec_model=keras.Model(mSpec_input, mSpec_output, name=\"mSpecModel\")"
      ],
      "metadata": {
        "id": "2GLe9JTx0L91"
      },
      "execution_count": null,
      "outputs": []
    },
    {
      "cell_type": "code",
      "source": [
        "mSpec_model.summary()"
      ],
      "metadata": {
        "colab": {
          "base_uri": "https://localhost:8080/"
        },
        "id": "RVqT8SAA0ThJ",
        "outputId": "1ead446b-cf50-46ab-addb-c2a0df713cbf"
      },
      "execution_count": null,
      "outputs": [
        {
          "output_type": "stream",
          "name": "stdout",
          "text": [
            "Model: \"mSpecModel\"\n",
            "_________________________________________________________________\n",
            " Layer (type)                Output Shape              Param #   \n",
            "=================================================================\n",
            " mSpecInput (InputLayer)     [(None, 128, 259, 1)]     0         \n",
            "                                                                 \n",
            " conv2d_7 (Conv2D)           (None, 64, 87, 32)        832       \n",
            "                                                                 \n",
            " batch_normalization_7 (Batc  (None, 64, 87, 32)       128       \n",
            " hNormalization)                                                 \n",
            "                                                                 \n",
            " activation_7 (Activation)   (None, 64, 87, 32)        0         \n",
            "                                                                 \n",
            " max_pooling2d_5 (MaxPooling  (None, 32, 43, 32)       0         \n",
            " 2D)                                                             \n",
            "                                                                 \n",
            " conv2d_8 (Conv2D)           (None, 16, 22, 64)        18496     \n",
            "                                                                 \n",
            " batch_normalization_8 (Batc  (None, 16, 22, 64)       256       \n",
            " hNormalization)                                                 \n",
            "                                                                 \n",
            " activation_8 (Activation)   (None, 16, 22, 64)        0         \n",
            "                                                                 \n",
            " max_pooling2d_6 (MaxPooling  (None, 8, 11, 64)        0         \n",
            " 2D)                                                             \n",
            "                                                                 \n",
            " conv2d_9 (Conv2D)           (None, 8, 11, 96)         24672     \n",
            "                                                                 \n",
            " batch_normalization_9 (Batc  (None, 8, 11, 96)        384       \n",
            " hNormalization)                                                 \n",
            "                                                                 \n",
            " activation_9 (Activation)   (None, 8, 11, 96)         0         \n",
            "                                                                 \n",
            " max_pooling2d_7 (MaxPooling  (None, 4, 5, 96)         0         \n",
            " 2D)                                                             \n",
            "                                                                 \n",
            " conv2d_10 (Conv2D)          (None, 4, 5, 128)         49280     \n",
            "                                                                 \n",
            " batch_normalization_10 (Bat  (None, 4, 5, 128)        512       \n",
            " chNormalization)                                                \n",
            "                                                                 \n",
            " activation_10 (Activation)  (None, 4, 5, 128)         0         \n",
            "                                                                 \n",
            " global_max_pooling2d_2 (Glo  (None, 128)              0         \n",
            " balMaxPooling2D)                                                \n",
            "                                                                 \n",
            "=================================================================\n",
            "Total params: 94,560\n",
            "Trainable params: 93,920\n",
            "Non-trainable params: 640\n",
            "_________________________________________________________________\n"
          ]
        }
      ]
    },
    {
      "cell_type": "code",
      "source": [
        "#combining the 3 models\n",
        "input_mfcc=keras.layers.Input(shape=(20,259,1),name=\"mfcc\")\n",
        "mfcc=mfcc_model(input_mfcc)\n",
        "\n",
        "input_croma=keras.layers.Input(shape=(12,259,1),name=\"croma\")\n",
        "croma=croma_model(input_croma)\n",
        "\n",
        "input_mSpec=keras.layers.Input(shape=(128,259,1),name=\"mspec\")\n",
        "mSpec=mSpec_model(input_mSpec)\n",
        "\n",
        "\n",
        "concat=keras.layers.concatenate([mfcc,croma,mSpec])\n",
        "hidden=keras.layers.Dropout(0.2)(concat)\n",
        "hidden=keras.layers.Dense(50,activation='relu')(concat)\n",
        "hidden=keras.layers.Dropout(0.3)(hidden)\n",
        "hidden=keras.layers.Dense(25,activation='relu')(hidden)\n",
        "hidden=keras.layers.Dropout(0.3)(hidden)\n",
        "output=keras.layers.Dense(4,activation='softmax')(hidden) # 4 classes so 4 number of outputs\n",
        "\n",
        "net=keras.Model([input_mfcc,input_croma,input_mSpec], output, name=\"Net\")"
      ],
      "metadata": {
        "id": "4S3byLRB0Yk5"
      },
      "execution_count": null,
      "outputs": []
    },
    {
      "cell_type": "code",
      "source": [
        "net.summary()"
      ],
      "metadata": {
        "colab": {
          "base_uri": "https://localhost:8080/"
        },
        "id": "2iyMlU-50aBB",
        "outputId": "9a332999-573c-48cf-9791-ca70e80a2aad"
      },
      "execution_count": null,
      "outputs": [
        {
          "output_type": "stream",
          "name": "stdout",
          "text": [
            "Model: \"Net\"\n",
            "__________________________________________________________________________________________________\n",
            " Layer (type)                   Output Shape         Param #     Connected to                     \n",
            "==================================================================================================\n",
            " mfcc (InputLayer)              [(None, 20, 259, 1)  0           []                               \n",
            "                                ]                                                                 \n",
            "                                                                                                  \n",
            " croma (InputLayer)             [(None, 12, 259, 1)  0           []                               \n",
            "                                ]                                                                 \n",
            "                                                                                                  \n",
            " mspec (InputLayer)             [(None, 128, 259, 1  0           []                               \n",
            "                                )]                                                                \n",
            "                                                                                                  \n",
            " mfccModel (Functional)         (None, 128)          94560       ['mfcc[0][0]']                   \n",
            "                                                                                                  \n",
            " cromaModel (Functional)        (None, 128)          53120       ['croma[0][0]']                  \n",
            "                                                                                                  \n",
            " mSpecModel (Functional)        (None, 128)          94560       ['mspec[0][0]']                  \n",
            "                                                                                                  \n",
            " concatenate (Concatenate)      (None, 384)          0           ['mfccModel[0][0]',              \n",
            "                                                                  'cromaModel[0][0]',             \n",
            "                                                                  'mSpecModel[0][0]']             \n",
            "                                                                                                  \n",
            " dense (Dense)                  (None, 50)           19250       ['concatenate[0][0]']            \n",
            "                                                                                                  \n",
            " dropout_1 (Dropout)            (None, 50)           0           ['dense[0][0]']                  \n",
            "                                                                                                  \n",
            " dense_1 (Dense)                (None, 25)           1275        ['dropout_1[0][0]']              \n",
            "                                                                                                  \n",
            " dropout_2 (Dropout)            (None, 25)           0           ['dense_1[0][0]']                \n",
            "                                                                                                  \n",
            " dense_2 (Dense)                (None, 4)            104         ['dropout_2[0][0]']              \n",
            "                                                                                                  \n",
            "==================================================================================================\n",
            "Total params: 262,869\n",
            "Trainable params: 261,141\n",
            "Non-trainable params: 1,728\n",
            "__________________________________________________________________________________________________\n"
          ]
        }
      ]
    },
    {
      "cell_type": "code",
      "source": [
        "#Heres and figure showing the model schematic\n",
        "keras.utils.plot_model(net, \"net.png\", show_shapes=True)"
      ],
      "metadata": {
        "colab": {
          "base_uri": "https://localhost:8080/",
          "height": 795
        },
        "id": "tdUrRQfU0hEX",
        "outputId": "d62071c9-634a-4bfb-b8e6-9f3d49a996cb"
      },
      "execution_count": null,
      "outputs": [
        {
          "output_type": "execute_result",
          "data": {
            "image/png": "[encoded data removed]",
            "text/plain": [
              "<IPython.core.display.Image object>"
            ]
          },
          "metadata": {},
          "execution_count": 33
        }
      ]
    },
    {
      "cell_type": "code",
      "source": [
        "from keras import backend as K\n",
        "net.compile(loss='sparse_categorical_crossentropy', optimizer='nadam', metrics=['accuracy'])\n",
        "K.set_value(net.optimizer.learning_rate, 0.001)"
      ],
      "metadata": {
        "id": "y_chM4ee0jzn"
      },
      "execution_count": null,
      "outputs": []
    },
    {
      "cell_type": "code",
      "source": [
        "#Training the Model\n",
        "history=net.fit(\n",
        "    {\"mfcc\":mfcc_train,\"croma\":cstft_train,\"mspec\":mSpec_train},\n",
        "    ytrain,\n",
        "    validation_data=({\"mfcc\":mfcc_val,\"croma\":cstft_val,\"mspec\":mSpec_val},yval),\n",
        "    epochs=100,verbose=0,\n",
        "    callbacks=my_callbacks\n",
        ")"
      ],
      "metadata": {
        "id": "kSira3Hm0kgG"
      },
      "execution_count": null,
      "outputs": []
    },
    {
      "cell_type": "code",
      "source": [
        "#Plotting the various parameters\n",
        "pd.DataFrame(history.history).plot()\n",
        "plt.grid(True)\n",
        "plt.gca().set_ylim(-0.1,1.1)\n",
        "plt.show()"
      ],
      "metadata": {
        "colab": {
          "base_uri": "https://localhost:8080/",
          "height": 265
        },
        "id": "U0Mqez8g0qKn",
        "outputId": "0f01b93a-5a65-489a-da2f-62094188e4b6"
      },
      "execution_count": null,
      "outputs": [
        {
          "output_type": "display_data",
          "data": {
            "text/plain": [
              "<Figure size 432x288 with 1 Axes>"
            ],
            "image/png": "[encoded data removed]"
          },
          "metadata": {
            "needs_background": "light"
          }
        }
      ]
    },
    {
      "cell_type": "code",
      "source": [
        "net.evaluate({\"mfcc\":mfcc_val,\"croma\":cstft_val,\"mspec\":mSpec_val},yval)"
      ],
      "metadata": {
        "colab": {
          "base_uri": "https://localhost:8080/"
        },
        "id": "d1aF8VtZ0s-T",
        "outputId": "4f7cb830-3194-4a1a-e01b-26db570e07bb"
      },
      "execution_count": null,
      "outputs": [
        {
          "output_type": "stream",
          "name": "stdout",
          "text": [
            "48/48 [==============================] - 0s 8ms/step - loss: 0.6484 - accuracy: 0.7500\n"
          ]
        },
        {
          "output_type": "execute_result",
          "data": {
            "text/plain": [
              "[0.6484078764915466, 0.75]"
            ]
          },
          "metadata": {},
          "execution_count": 37
        }
      ]
    },
    {
      "cell_type": "code",
      "source": [
        "#saving the model for future use\n",
        "net.save('/content/drive/MyDrive/Mosaic23/models/MosaicModel.h5')"
      ],
      "metadata": {
        "id": "3FwzM74W2Qga"
      },
      "execution_count": null,
      "outputs": []
    },
    {
      "cell_type": "markdown",
      "source": [
        "#Loading Model"
      ],
      "metadata": {
        "id": "jJBrZOCV1QRO"
      }
    },
    {
      "cell_type": "code",
      "source": [
        "reconstructed_model = keras.models.load_model(\"/content/drive/MyDrive/Mosaic23/models/MosaicModel.h5\")"
      ],
      "metadata": {
        "id": "figgZN4T9Nv4"
      },
      "execution_count": null,
      "outputs": []
    },
    {
      "cell_type": "code",
      "source": [
        "path='/content/drive/MyDrive/Mosaic23/processed_audio_files/195_1b1_Ar_sc_Litt3200_0.wav'"
      ],
      "metadata": {
        "id": "WJtb0HVmziLy"
      },
      "execution_count": null,
      "outputs": []
    },
    {
      "cell_type": "code",
      "source": [
        "mfcc,cstft,mSpec,tempogram=[],[],[],[]\n",
        "\n",
        "\n",
        "a,b,c=getFeatures(path)\n",
        "mfcc.append(a)\n",
        "cstft.append(b)\n",
        "mSpec.append(c)\n",
        "    \n",
        "mfcc_test=np.array(mfcc)\n",
        "cstft_test=np.array(cstft)\n",
        "mSpec_test=np.array(mSpec)"
      ],
      "metadata": {
        "id": "DPb7-lV6ziB8"
      },
      "execution_count": null,
      "outputs": []
    },
    {
      "cell_type": "code",
      "source": [
        "predictions=reconstructed_model.predict({\"mfcc\":mfcc_test,\"croma\":cstft_test,\"mspec\":mSpec_test})"
      ],
      "metadata": {
        "colab": {
          "base_uri": "https://localhost:8080/"
        },
        "id": "hJdXFsX1znY6",
        "outputId": "58a35855-86e1-4f3a-be57-cb0be42d579f"
      },
      "execution_count": null,
      "outputs": [
        {
          "output_type": "stream",
          "name": "stdout",
          "text": [
            "1/1 [==============================] - 0s 396ms/step\n"
          ]
        }
      ]
    },
    {
      "cell_type": "code",
      "source": [
        "classes = np.argmax(predictions, axis = 1)\n",
        "print(classes)"
      ],
      "metadata": {
        "colab": {
          "base_uri": "https://localhost:8080/"
        },
        "id": "mx4-PrWczqm5",
        "outputId": "96bf2e0f-8c66-485a-e508-84a7705fdd75"
      },
      "execution_count": null,
      "outputs": [
        {
          "output_type": "stream",
          "name": "stdout",
          "text": [
            "[3]\n"
          ]
        }
      ]
    },
    {
      "cell_type": "code",
      "source": [
        "def return_output(classes):\n",
        "  if(classes[0]==0) :\n",
        "    return 'both'\n",
        "  if(classes[0]==1) :\n",
        "    return 'crackles'\n",
        "  if(classes[0]==2):\n",
        "     return 'normal'\n",
        "  if(classes[0]==3) :\n",
        "    return 'weezels'"
      ],
      "metadata": {
        "id": "ebmRJTTlz985"
      },
      "execution_count": null,
      "outputs": []
    },
    {
      "cell_type": "code",
      "source": [
        "print(return_output(classes))"
      ],
      "metadata": {
        "colab": {
          "base_uri": "https://localhost:8080/"
        },
        "id": "vP_3VMNmzsv5",
        "outputId": "b83d096f-08d4-4a9c-badc-9876407fdba4"
      },
      "execution_count": null,
      "outputs": [
        {
          "output_type": "stream",
          "name": "stdout",
          "text": [
            "weezels\n"
          ]
        }
      ]
    }
  ]
}