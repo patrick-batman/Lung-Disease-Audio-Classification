{
  "nbformat": 4,
  "nbformat_minor": 0,
  "metadata": {
    "colab": {
      "provenance": []
    },
    "kernelspec": {
      "name": "python3",
      "display_name": "Python 3"
    },
    "language_info": {
      "name": "python"
    },
    "accelerator": "GPU",
    "gpuClass": "standard"
  },
  "cells": [
    {
      "cell_type": "markdown",
      "source": [
        "#This notebook Contains the code required for testing any random audio sample(s)"
      ],
      "metadata": {
        "id": "Ib7U8EzWyDo-"
      }
    },
    {
      "cell_type": "markdown",
      "source": [
        "#Loading Libraries and Dataset"
      ],
      "metadata": {
        "id": "yUSPKzv5s-PP"
      }
    },
    {
      "cell_type": "code",
      "execution_count": 1,
      "metadata": {
        "id": "nP5vHouRpSjN"
      },
      "outputs": [],
      "source": [
        "import numpy as np # linear algebra\n",
        "import pandas as pd # data processing, CSV file I/O (e.g. pd.read_csv)\n",
        "import tensorflow as tf\n",
        "from tensorflow import keras\n",
        "import matplotlib.pyplot as plt\n",
        "import seaborn as sns\n",
        "import librosa.display\n",
        "import os"
      ]
    },
    {
      "cell_type": "code",
      "source": [
        "import librosa as lb"
      ],
      "metadata": {
        "id": "XV8pye9gqqlS"
      },
      "execution_count": 2,
      "outputs": []
    },
    {
      "cell_type": "markdown",
      "source": [
        "###Testing multiple files:\n",
        "create a dataset with a column name as filenames and load it into google drive"
      ],
      "metadata": {
        "id": "Hmqyclu01qrU"
      }
    },
    {
      "cell_type": "code",
      "source": [
        "import sys\n",
        "from google.colab import drive\n",
        "drive.mount('/content/drive')"
      ],
      "metadata": {
        "colab": {
          "base_uri": "https://localhost:8080/"
        },
        "id": "dRaJDXDRpZsj",
        "outputId": "16b74ee5-5243-466f-c010-7f2ab3a559bf"
      },
      "execution_count": 3,
      "outputs": [
        {
          "output_type": "stream",
          "name": "stdout",
          "text": [
            "Mounted at /content/drive\n"
          ]
        }
      ]
    },
    {
      "cell_type": "code",
      "source": [
        "#Loading Dataset, this dataset should contain names of the files under a column filename.\n",
        "files_df=pd.read_csv(\"/content/drive/MyDrive/Mosaic23/file_info.csv\")"
      ],
      "metadata": {
        "id": "WhUcLfCzpd6B"
      },
      "execution_count": 4,
      "outputs": []
    },
    {
      "cell_type": "code",
      "source": [
        "files_df.head()"
      ],
      "metadata": {
        "colab": {
          "base_uri": "https://localhost:8080/",
          "height": 204
        },
        "id": "FVSQ44e9p3MA",
        "outputId": "ee81f37a-0d2d-4675-9e9e-1d0d89f375c3"
      },
      "execution_count": 5,
      "outputs": [
        {
          "output_type": "execute_result",
          "data": {
            "text/plain": [
              "    start      end  crackles  weezels  pid mode                      filename\n",
              "0  1.5629   3.4694       0.0      1.0  195   sc  195_1b1_Ar_sc_Litt3200_0.wav\n",
              "1  3.4694   5.4677       0.0      0.0  195   sc  195_1b1_Ar_sc_Litt3200_1.wav\n",
              "2  5.4677   7.5242       0.0      1.0  195   sc  195_1b1_Ar_sc_Litt3200_2.wav\n",
              "3  7.5242   9.8468       0.0      0.0  195   sc  195_1b1_Ar_sc_Litt3200_3.wav\n",
              "4  9.8468  11.1340       0.0      0.0  195   sc  195_1b1_Ar_sc_Litt3200_4.wav"
            ],
            "text/html": [
              "\n",
              "  <div id=\"df-9cb353d5-903b-4c96-99ea-b54911d4cae9\">\n",
              "    <div class=\"colab-df-container\">\n",
              "      <div>\n",
              "<style scoped>\n",
              "    .dataframe tbody tr th:only-of-type {\n",
              "        vertical-align: middle;\n",
              "    }\n",
              "\n",
              "    .dataframe tbody tr th {\n",
              "        vertical-align: top;\n",
              "    }\n",
              "\n",
              "    .dataframe thead th {\n",
              "        text-align: right;\n",
              "    }\n",
              "</style>\n",
              "<table border=\"1\" class=\"dataframe\">\n",
              "  <thead>\n",
              "    <tr style=\"text-align: right;\">\n",
              "      <th></th>\n",
              "      <th>start</th>\n",
              "      <th>end</th>\n",
              "      <th>crackles</th>\n",
              "      <th>weezels</th>\n",
              "      <th>pid</th>\n",
              "      <th>mode</th>\n",
              "      <th>filename</th>\n",
              "    </tr>\n",
              "  </thead>\n",
              "  <tbody>\n",
              "    <tr>\n",
              "      <th>0</th>\n",
              "      <td>1.5629</td>\n",
              "      <td>3.4694</td>\n",
              "      <td>0.0</td>\n",
              "      <td>1.0</td>\n",
              "      <td>195</td>\n",
              "      <td>sc</td>\n",
              "      <td>195_1b1_Ar_sc_Litt3200_0.wav</td>\n",
              "    </tr>\n",
              "    <tr>\n",
              "      <th>1</th>\n",
              "      <td>3.4694</td>\n",
              "      <td>5.4677</td>\n",
              "      <td>0.0</td>\n",
              "      <td>0.0</td>\n",
              "      <td>195</td>\n",
              "      <td>sc</td>\n",
              "      <td>195_1b1_Ar_sc_Litt3200_1.wav</td>\n",
              "    </tr>\n",
              "    <tr>\n",
              "      <th>2</th>\n",
              "      <td>5.4677</td>\n",
              "      <td>7.5242</td>\n",
              "      <td>0.0</td>\n",
              "      <td>1.0</td>\n",
              "      <td>195</td>\n",
              "      <td>sc</td>\n",
              "      <td>195_1b1_Ar_sc_Litt3200_2.wav</td>\n",
              "    </tr>\n",
              "    <tr>\n",
              "      <th>3</th>\n",
              "      <td>7.5242</td>\n",
              "      <td>9.8468</td>\n",
              "      <td>0.0</td>\n",
              "      <td>0.0</td>\n",
              "      <td>195</td>\n",
              "      <td>sc</td>\n",
              "      <td>195_1b1_Ar_sc_Litt3200_3.wav</td>\n",
              "    </tr>\n",
              "    <tr>\n",
              "      <th>4</th>\n",
              "      <td>9.8468</td>\n",
              "      <td>11.1340</td>\n",
              "      <td>0.0</td>\n",
              "      <td>0.0</td>\n",
              "      <td>195</td>\n",
              "      <td>sc</td>\n",
              "      <td>195_1b1_Ar_sc_Litt3200_4.wav</td>\n",
              "    </tr>\n",
              "  </tbody>\n",
              "</table>\n",
              "</div>\n",
              "      <button class=\"colab-df-convert\" onclick=\"convertToInteractive('df-9cb353d5-903b-4c96-99ea-b54911d4cae9')\"\n",
              "              title=\"Convert this dataframe to an interactive table.\"\n",
              "              style=\"display:none;\">\n",
              "        \n",
              "  <svg xmlns=\"http://www.w3.org/2000/svg\" height=\"24px\"viewBox=\"0 0 24 24\"\n",
              "       width=\"24px\">\n",
              "    <path d=\"M0 0h24v24H0V0z\" fill=\"none\"/>\n",
              "    <path d=\"M18.56 5.44l.94 2.06.94-2.06 2.06-.94-2.06-.94-.94-2.06-.94 2.06-2.06.94zm-11 1L8.5 8.5l.94-2.06 2.06-.94-2.06-.94L8.5 2.5l-.94 2.06-2.06.94zm10 10l.94 2.06.94-2.06 2.06-.94-2.06-.94-.94-2.06-.94 2.06-2.06.94z\"/><path d=\"M17.41 7.96l-1.37-1.37c-.4-.4-.92-.59-1.43-.59-.52 0-1.04.2-1.43.59L10.3 9.45l-7.72 7.72c-.78.78-.78 2.05 0 2.83L4 21.41c.39.39.9.59 1.41.59.51 0 1.02-.2 1.41-.59l7.78-7.78 2.81-2.81c.8-.78.8-2.07 0-2.86zM5.41 20L4 18.59l7.72-7.72 1.47 1.35L5.41 20z\"/>\n",
              "  </svg>\n",
              "      </button>\n",
              "      \n",
              "  <style>\n",
              "    .colab-df-container {\n",
              "      display:flex;\n",
              "      flex-wrap:wrap;\n",
              "      gap: 12px;\n",
              "    }\n",
              "\n",
              "    .colab-df-convert {\n",
              "      background-color: #E8F0FE;\n",
              "      border: none;\n",
              "      border-radius: 50%;\n",
              "      cursor: pointer;\n",
              "      display: none;\n",
              "      fill: #1967D2;\n",
              "      height: 32px;\n",
              "      padding: 0 0 0 0;\n",
              "      width: 32px;\n",
              "    }\n",
              "\n",
              "    .colab-df-convert:hover {\n",
              "      background-color: #E2EBFA;\n",
              "      box-shadow: 0px 1px 2px rgba(60, 64, 67, 0.3), 0px 1px 3px 1px rgba(60, 64, 67, 0.15);\n",
              "      fill: #174EA6;\n",
              "    }\n",
              "\n",
              "    [theme=dark] .colab-df-convert {\n",
              "      background-color: #3B4455;\n",
              "      fill: #D2E3FC;\n",
              "    }\n",
              "\n",
              "    [theme=dark] .colab-df-convert:hover {\n",
              "      background-color: #434B5C;\n",
              "      box-shadow: 0px 1px 3px 1px rgba(0, 0, 0, 0.15);\n",
              "      filter: drop-shadow(0px 1px 2px rgba(0, 0, 0, 0.3));\n",
              "      fill: #FFFFFF;\n",
              "    }\n",
              "  </style>\n",
              "\n",
              "      <script>\n",
              "        const buttonEl =\n",
              "          document.querySelector('#df-9cb353d5-903b-4c96-99ea-b54911d4cae9 button.colab-df-convert');\n",
              "        buttonEl.style.display =\n",
              "          google.colab.kernel.accessAllowed ? 'block' : 'none';\n",
              "\n",
              "        async function convertToInteractive(key) {\n",
              "          const element = document.querySelector('#df-9cb353d5-903b-4c96-99ea-b54911d4cae9');\n",
              "          const dataTable =\n",
              "            await google.colab.kernel.invokeFunction('convertToInteractive',\n",
              "                                                     [key], {});\n",
              "          if (!dataTable) return;\n",
              "\n",
              "          const docLinkHtml = 'Like what you see? Visit the ' +\n",
              "            '<a target=\"_blank\" href=https://colab.research.google.com/notebooks/data_table.ipynb>data table notebook</a>'\n",
              "            + ' to learn more about interactive tables.';\n",
              "          element.innerHTML = '';\n",
              "          dataTable['output_type'] = 'display_data';\n",
              "          await google.colab.output.renderOutput(dataTable, element);\n",
              "          const docLink = document.createElement('div');\n",
              "          docLink.innerHTML = docLinkHtml;\n",
              "          element.appendChild(docLink);\n",
              "        }\n",
              "      </script>\n",
              "    </div>\n",
              "  </div>\n",
              "  "
            ]
          },
          "metadata": {},
          "execution_count": 5
        }
      ]
    },
    {
      "cell_type": "markdown",
      "source": [
        "#Feature Extraction"
      ],
      "metadata": {
        "id": "SVAdKzuRwgtR"
      }
    },
    {
      "cell_type": "code",
      "source": [
        "#function to get various features : MFCC,STFt,MelSpectrogram\n",
        "def getFeatures(path):\n",
        "    soundArr,sample_rate=lb.load(path)\n",
        "    mfcc=lb.feature.mfcc(y=soundArr,sr=sample_rate)\n",
        "    cstft=lb.feature.chroma_stft(y=soundArr,sr=sample_rate)\n",
        "    mSpec=lb.feature.melspectrogram(y=soundArr,sr=sample_rate)\n",
        "\n",
        "    return mfcc,cstft,mSpec"
      ],
      "metadata": {
        "id": "gcfMXPr0wcw1"
      },
      "execution_count": 6,
      "outputs": []
    },
    {
      "cell_type": "markdown",
      "source": [
        "###Run if dealing with muliple files"
      ],
      "metadata": {
        "id": "QLVx9ARG14tM"
      }
    },
    {
      "cell_type": "code",
      "source": [
        "#Creating Feature array for each different transform for testing set\n",
        "root='/content/drive/MyDrive/Mosaic23/processed_audio_files/'\n",
        "mfcc,cstft,mSpec=[],[],[]\n",
        "\n",
        "for idx,row in files_df.iterrows():\n",
        "    path=root + row['filename']\n",
        "    a,b,c=getFeatures(path)\n",
        "    mfcc.append(a)\n",
        "    cstft.append(b)\n",
        "    mSpec.append(c)\n",
        "    \n",
        "mfcc_test=np.array(mfcc)\n",
        "cstft_test=np.array(cstft)\n",
        "mSpec_test=np.array(mSpec)"
      ],
      "metadata": {
        "id": "40vOph87wyni",
        "colab": {
          "base_uri": "https://localhost:8080/"
        },
        "outputId": "45e42ef9-91f3-42e4-fcdc-bab93301394c"
      },
      "execution_count": null,
      "outputs": [
        {
          "output_type": "stream",
          "name": "stderr",
          "text": [
            "/usr/local/lib/python3.9/dist-packages/librosa/core/pitch.py:102: UserWarning: Trying to estimate tuning from empty frequency set.\n",
            "  return pitch_tuning(\n"
          ]
        }
      ]
    },
    {
      "cell_type": "markdown",
      "source": [
        "#Loading Model"
      ],
      "metadata": {
        "id": "jJBrZOCV1QRO"
      }
    },
    {
      "cell_type": "code",
      "source": [
        "reconstructed_model = keras.models.load_model(\"/content/drive/MyDrive/Mosaic23/models/MosaicModel.h5\")"
      ],
      "metadata": {
        "id": "figgZN4T9Nv4"
      },
      "execution_count": 7,
      "outputs": []
    },
    {
      "cell_type": "code",
      "source": [
        "#if you want to check a single audio file\n",
        "path='/content/drive/MyDrive/Mosaic23/processed_audio_files/195_1b1_Ar_sc_Litt3200_0.wav'\n",
        "mfcc,cstft,mSpec,tempogram=[],[],[],[]\n",
        "\n",
        "\n",
        "a,b,c=getFeatures(path)\n",
        "mfcc.append(a)\n",
        "cstft.append(b)\n",
        "mSpec.append(c)\n",
        "    \n",
        "mfcc_test=np.array(mfcc)\n",
        "cstft_test=np.array(cstft)\n",
        "mSpec_test=np.array(mSpec)"
      ],
      "metadata": {
        "id": "DPb7-lV6ziB8"
      },
      "execution_count": 8,
      "outputs": []
    },
    {
      "cell_type": "code",
      "source": [
        "predictions=reconstructed_model.predict({\"mfcc\":mfcc_test,\"croma\":cstft_test,\"mspec\":mSpec_test})"
      ],
      "metadata": {
        "colab": {
          "base_uri": "https://localhost:8080/"
        },
        "id": "hJdXFsX1znY6",
        "outputId": "032df3b4-72a6-4203-b138-83c30b50425e"
      },
      "execution_count": 9,
      "outputs": [
        {
          "output_type": "stream",
          "name": "stdout",
          "text": [
            "1/1 [==============================] - 9s 9s/step\n"
          ]
        }
      ]
    },
    {
      "cell_type": "code",
      "source": [
        "classes = np.argmax(predictions, axis = 1)\n",
        "print(classes)"
      ],
      "metadata": {
        "colab": {
          "base_uri": "https://localhost:8080/"
        },
        "id": "mx4-PrWczqm5",
        "outputId": "dde2c645-cd6a-4301-ba87-9febafc0288d"
      },
      "execution_count": 10,
      "outputs": [
        {
          "output_type": "stream",
          "name": "stdout",
          "text": [
            "[3]\n"
          ]
        }
      ]
    },
    {
      "cell_type": "code",
      "source": [
        "def return_output(classes):\n",
        "  if(classes[0]==0) :\n",
        "    return 'both'\n",
        "  if(classes[0]==1) :\n",
        "    return 'crackles'\n",
        "  if(classes[0]==2):\n",
        "     return 'normal'\n",
        "  if(classes[0]==3) :\n",
        "    return 'weezels'"
      ],
      "metadata": {
        "id": "ebmRJTTlz985"
      },
      "execution_count": 11,
      "outputs": []
    },
    {
      "cell_type": "code",
      "source": [
        "print(return_output(classes))"
      ],
      "metadata": {
        "colab": {
          "base_uri": "https://localhost:8080/"
        },
        "id": "vP_3VMNmzsv5",
        "outputId": "a82eaa15-db2a-4962-a7ef-b800d0b9c002"
      },
      "execution_count": 12,
      "outputs": [
        {
          "output_type": "stream",
          "name": "stdout",
          "text": [
            "weezels\n"
          ]
        }
      ]
    }
  ]
}